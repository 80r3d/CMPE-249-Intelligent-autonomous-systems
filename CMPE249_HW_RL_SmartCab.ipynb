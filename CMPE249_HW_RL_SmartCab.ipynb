{
  "cells": [
    {
      "cell_type": "markdown",
      "metadata": {
        "id": "DOa7Y5f1LKaD"
      },
      "source": [
        "# CMPE249_HW3_RL_SmartCab"
      ]
    },
    {
      "cell_type": "markdown",
      "metadata": {
        "id": "YKjO7nAgLKaN"
      },
      "source": [
        "In this problem, you are going to implement the basic Q-learning algorithm to teach a Smartcab to pick up the passenger at one location and drop them off in another. The goals include:\n",
        "1. Drop off the passenger to the right location. \n",
        "2. Find the minimum path.\n",
        "3. Avoid obstacles and follow traffice rules.\n",
        "\n",
        "Fortunately, OpenAI Gym (https://gym.openai.com/) has a simualtion environment already built for this problem. \n",
        "\n",
        "You need to install \"gym\" first if you have not done so already using\n",
        "\n",
        "!pip install cmake 'gym[atari]' scipy"
      ]
    },
    {
      "cell_type": "markdown",
      "metadata": {
        "id": "8YbsJ6WOLKaO"
      },
      "source": [
        "Load the game environment and render what it looks like. \n",
        "The filled square represents the taxi, which is yellow without a passenger and green with a passenger.\n",
        "The pipe (\"|\") represents a wall which the taxi cannot cross.\n",
        "R, G, Y, B are the possible pickup and destination locations. The blue letter represents the current passenger pick-up location, and the purple letter is the current destination."
      ]
    },
    {
      "cell_type": "code",
      "execution_count": null,
      "metadata": {
        "colab": {
          "base_uri": "https://localhost:8080/"
        },
        "id": "eOXvxgOjLKaQ",
        "outputId": "3baa7b5d-7c07-4d83-e41a-45cb2f123b53"
      },
      "outputs": [
        {
          "output_type": "stream",
          "name": "stdout",
          "text": [
            "+---------+\n",
            "|\u001b[35mR\u001b[0m: | : :\u001b[34;1mG\u001b[0m|\n",
            "| : |\u001b[43m \u001b[0m: : |\n",
            "| : : : : |\n",
            "| | : | : |\n",
            "|Y| : |B: |\n",
            "+---------+\n",
            "\n"
          ]
        }
      ],
      "source": [
        "import gym\n",
        "env = gym.make(\"Taxi-v3\").env\n",
        "env.render()"
      ]
    },
    {
      "cell_type": "markdown",
      "metadata": {
        "id": "5AwSJV1SLKaT"
      },
      "source": [
        "Here's the restructured problem statement (from Gym docs):\n",
        "\n",
        "\"There are 4 locations (labeled by different letters), and the job is to pick up the passenger at one location and drop him off at another. We receive +20 points for a successful drop-off and lose 1 point for every time-step it takes. There is also a 10 point penalty for illegal pick-up and drop-off actions.\"\n",
        "\n",
        "The action space include six actions: \n",
        "0 = south\n",
        "1 = north\n",
        "2 = east\n",
        "3 = west\n",
        "4 = pickup\n",
        "5 = dropoff"
      ]
    },
    {
      "cell_type": "code",
      "execution_count": null,
      "metadata": {
        "colab": {
          "base_uri": "https://localhost:8080/"
        },
        "id": "8tPAEcu0LKaT",
        "outputId": "e679ce94-7910-4370-a05c-ee07480268a9"
      },
      "outputs": [
        {
          "output_type": "stream",
          "name": "stdout",
          "text": [
            "+---------+\n",
            "|\u001b[35mR\u001b[0m: | : :\u001b[34;1mG\u001b[0m|\n",
            "| : | : : |\n",
            "| : : : : |\n",
            "| | : |\u001b[43m \u001b[0m: |\n",
            "|Y| : |B: |\n",
            "+---------+\n",
            "\n",
            "Action Space Discrete(6)\n",
            "State Space Discrete(500)\n"
          ]
        }
      ],
      "source": [
        "# reset the environment to a new, random state\n",
        "env.reset() \n",
        "env.render()\n",
        "print(\"Action Space {}\".format(env.action_space))\n",
        "print(\"State Space {}\".format(env.observation_space))"
      ]
    },
    {
      "cell_type": "markdown",
      "metadata": {
        "id": "TzRQabB5LKaU"
      },
      "source": [
        "When the Taxi environment is created, there is an initial Reward table that's also created, called `P`. We can think of it like a matrix that has the number of states as rows and number of actions as columns, i.e. a states × actions matrix.\n",
        "\n",
        "Since every state is in this matrix, we can see the default reward values assigned to one of the state 328:"
      ]
    },
    {
      "cell_type": "code",
      "execution_count": null,
      "metadata": {
        "colab": {
          "base_uri": "https://localhost:8080/"
        },
        "id": "6nIOX-rZLKaW",
        "outputId": "c69e9334-9424-4855-c907-5ffe30479402"
      },
      "outputs": [
        {
          "output_type": "execute_result",
          "data": {
            "text/plain": [
              "{0: [(1.0, 428, -1, False)],\n",
              " 1: [(1.0, 228, -1, False)],\n",
              " 2: [(1.0, 348, -1, False)],\n",
              " 3: [(1.0, 328, -1, False)],\n",
              " 4: [(1.0, 328, -10, False)],\n",
              " 5: [(1.0, 328, -10, False)]}"
            ]
          },
          "metadata": {},
          "execution_count": 17
        }
      ],
      "source": [
        "env.P[328]"
      ]
    },
    {
      "cell_type": "markdown",
      "metadata": {
        "id": "fMFNgpxOLKaY"
      },
      "source": [
        "This dictionary has the structure {action: [(probability, nextstate, reward, done)]}.\n",
        "\n",
        "A few things to note:\n",
        "\n",
        "1. The 0-5 corresponds to the actions (south, north, east, west, pickup, dropoff) the taxi can perform at our current state in the illustration.\n",
        "2. In this env, \"probability\" is always 1.0.\n",
        "3. The \"nextstate\" is the state we would be in if we take the action at this index of the dict\n",
        "4. All the movement actions have a -1 reward and the pickup/dropoff actions have -10 reward in this particular state. If we are in a state where the taxi has a passenger and is on top of the right destination, we would see a reward of 20 at the dropoff action (5)\n",
        "5. \"done\" is used to tell us when we have successfully dropped off a passenger in the right location. Each successfull dropoff is the end of an episode\n",
        "\n",
        "Note that if our agent chose to explore action two (2) in this state it would be going East into a wall. The source code has made it impossible to actually move the taxi across a wall, so if the taxi chooses that action, it will just keep accruing -1 penalties, which affects the long-term reward."
      ]
    },
    {
      "cell_type": "markdown",
      "metadata": {
        "id": "nIaj30QSLKaZ"
      },
      "source": [
        "Now, let's use Q-learning to solve this problem."
      ]
    },
    {
      "cell_type": "markdown",
      "metadata": {
        "id": "8NC6GTH0LKaa"
      },
      "source": [
        "First, we will initialize the Q-table to a 500 * 6 matrix of zeros."
      ]
    },
    {
      "cell_type": "code",
      "execution_count": null,
      "metadata": {
        "id": "EQn7xY7PLKaa"
      },
      "outputs": [],
      "source": [
        "import numpy as np\n",
        "q_table = np.zeros([env.observation_space.n, env.action_space.n])"
      ]
    },
    {
      "cell_type": "markdown",
      "metadata": {
        "id": "nitZHdxsLKaa"
      },
      "source": [
        "TODO: implement the Q-learning algorithm to find the best strategy"
      ]
    },
    {
      "cell_type": "code",
      "execution_count": null,
      "metadata": {
        "colab": {
          "base_uri": "https://localhost:8080/"
        },
        "id": "FD4nd-tWLKab",
        "outputId": "96446903-5ff8-4723-a799-cab979c7ba43"
      },
      "outputs": [
        {
          "output_type": "stream",
          "name": "stdout",
          "text": [
            "Episode: 100000\n",
            "Training finished.\n",
            "\n",
            "CPU times: user 1min 2s, sys: 9.61 s, total: 1min 12s\n",
            "Wall time: 1min 4s\n"
          ]
        }
      ],
      "source": [
        "%%time\n",
        "\"\"\"Training the agent\"\"\"\n",
        "\n",
        "import random\n",
        "from IPython.display import clear_output\n",
        "import numpy\n",
        "\n",
        "# Hyperparameters\n",
        "alpha = 0.1\n",
        "gamma = 0.6\n",
        "epsilon = 0.1\n",
        "\n",
        "# For plotting metrics\n",
        "all_epochs = []\n",
        "all_penalties = []\n",
        "\n",
        "for i in range(1, 100001):\n",
        "    state = env.reset()\n",
        "\n",
        "    epochs, penalties, reward, = 0, 0, 0\n",
        "    done = False\n",
        "    \n",
        "    #TODO: implement the Q-learning algorithm\n",
        "    while not done:\n",
        "        if random.uniform(0, 1) < epsilon:\n",
        "            action = env.action_space.sample() # Pick a new action for this state.\n",
        "        else:\n",
        "            action = numpy.argmax(q_table[state]) # Pick the action which has previously given the highest reward.\n",
        "\n",
        "        next_state, reward, done, info = env.step(action) \n",
        "        \n",
        "        old_value = q_table[state, action] # Retrieve old value from the q-table.\n",
        "        next_max = numpy.max(q_table[next_state])\n",
        "\n",
        "        # Update q-value for current state.\n",
        "        new_value = (1 - alpha) * old_value + alpha * (reward + gamma * next_max)\n",
        "        q_table[state, action] = new_value\n",
        "\n",
        "        if reward == -10: # Checks if agent attempted to do an illegal action.\n",
        "            penalties += 1\n",
        "\n",
        "        state = next_state\n",
        "        \n",
        "    if i % 100 == 0:\n",
        "        clear_output(wait=True)\n",
        "        print(f\"Episode: {i}\")\n",
        "\n",
        "print(\"Training finished.\\n\")"
      ]
    },
    {
      "cell_type": "markdown",
      "metadata": {
        "id": "XLfjD9iYLKac"
      },
      "source": [
        "let's see what the Q-values are at state 328:"
      ]
    },
    {
      "cell_type": "code",
      "execution_count": null,
      "metadata": {
        "colab": {
          "base_uri": "https://localhost:8080/"
        },
        "id": "cRBUrfmJLKac",
        "outputId": "ef536e63-87b9-4dc0-c08a-8dd9fc7c2aa3"
      },
      "outputs": [
        {
          "output_type": "execute_result",
          "data": {
            "text/plain": [
              "array([ -2.40655434,  -2.27325184,  -2.41236142,  -2.36203798,\n",
              "       -10.60078172, -10.21806444])"
            ]
          },
          "metadata": {},
          "execution_count": 22
        }
      ],
      "source": [
        "q_table[328]"
      ]
    },
    {
      "cell_type": "markdown",
      "metadata": {
        "id": "JdfS4GTnLKac"
      },
      "source": [
        "Evaluate agent's performance after Q-learning"
      ]
    },
    {
      "cell_type": "code",
      "execution_count": null,
      "metadata": {
        "colab": {
          "base_uri": "https://localhost:8080/"
        },
        "id": "ThvNHynnLKac",
        "outputId": "3cdd3082-50ca-40d2-e273-9ee58d1982db"
      },
      "outputs": [
        {
          "output_type": "stream",
          "name": "stdout",
          "text": [
            "Results after 100 episodes:\n",
            "Average timesteps per episode: 12.89\n",
            "Average penalties per episode: 0.0\n"
          ]
        }
      ],
      "source": [
        "\"\"\"Evaluate agent's performance after Q-learning\"\"\"\n",
        "\n",
        "total_epochs, total_penalties = 0, 0\n",
        "episodes = 100\n",
        "\n",
        "for _ in range(episodes):\n",
        "    state = env.reset()\n",
        "    epochs, penalties, reward = 0, 0, 0\n",
        "    \n",
        "    done = False\n",
        "    \n",
        "    while not done:\n",
        "        action = np.argmax(q_table[state])\n",
        "        state, reward, done, info = env.step(action)\n",
        "\n",
        "        if reward == -10:\n",
        "            penalties += 1\n",
        "\n",
        "        epochs += 1\n",
        "\n",
        "    total_penalties += penalties\n",
        "    total_epochs += epochs\n",
        "\n",
        "print(f\"Results after {episodes} episodes:\")\n",
        "print(f\"Average timesteps per episode: {total_epochs / episodes}\")\n",
        "print(f\"Average penalties per episode: {total_penalties / episodes}\")"
      ]
    },
    {
      "cell_type": "code",
      "execution_count": null,
      "metadata": {
        "id": "W2_q7WnfLKad"
      },
      "outputs": [],
      "source": [
        ""
      ]
    }
  ],
  "metadata": {
    "kernelspec": {
      "display_name": "Python 3",
      "language": "python",
      "name": "python3"
    },
    "language_info": {
      "codemirror_mode": {
        "name": "ipython",
        "version": 3
      },
      "file_extension": ".py",
      "mimetype": "text/x-python",
      "name": "python",
      "nbconvert_exporter": "python",
      "pygments_lexer": "ipython3",
      "version": "3.7.6"
    },
    "colab": {
      "name": "CMPE249_HW_RL_SmartCab.ipynb",
      "provenance": []
    }
  },
  "nbformat": 4,
  "nbformat_minor": 0
}